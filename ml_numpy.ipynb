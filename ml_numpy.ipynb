{
 "cells": [
  {
   "cell_type": "code",
   "execution_count": 1,
   "id": "1eeaba01",
   "metadata": {},
   "outputs": [
    {
     "data": {
      "text/plain": [
       "array(['a', 'b', 'c'], dtype='<U1')"
      ]
     },
     "execution_count": 1,
     "metadata": {},
     "output_type": "execute_result"
    }
   ],
   "source": [
    "import numpy as np\n",
    "char_arr=np.array(['a','b','c'])\n",
    "char_arr"
   ]
  },
  {
   "cell_type": "code",
   "execution_count": 2,
   "id": "99601fea",
   "metadata": {},
   "outputs": [
    {
     "data": {
      "text/plain": [
       "array(['supervised', 'unsupervised', 'semi-supervised', 'reinforcement'],\n",
       "      dtype='<U15')"
      ]
     },
     "execution_count": 2,
     "metadata": {},
     "output_type": "execute_result"
    }
   ],
   "source": [
    "ch_arr2=np.array([\"supervised\",\"unsupervised\",\"sEMI-SUPERVISED\",\"reinforcement\"])\n",
    "low_arr=np.char.lower(ch_arr2)\n",
    "low_arr"
   ]
  },
  {
   "cell_type": "code",
   "execution_count": 3,
   "id": "f86c9896",
   "metadata": {},
   "outputs": [
    {
     "data": {
      "text/plain": [
       "array(['supervised', 'unsupervised', 'semi supervised', 'reinforcement'],\n",
       "      dtype='<U15')"
      ]
     },
     "execution_count": 3,
     "metadata": {},
     "output_type": "execute_result"
    }
   ],
   "source": [
    "cleaned_arr=np.char.replace(low_arr,\"-\",\" \")\n",
    "cleaned_arr"
   ]
  },
  {
   "cell_type": "code",
   "execution_count": 4,
   "id": "a5cdcfb3",
   "metadata": {},
   "outputs": [
    {
     "data": {
      "text/plain": [
       "dtype('int32')"
      ]
     },
     "execution_count": 4,
     "metadata": {},
     "output_type": "execute_result"
    }
   ],
   "source": [
    "arr1=np.array([1,2,3,4])\n",
    "arr1.dtype"
   ]
  },
  {
   "cell_type": "code",
   "execution_count": 5,
   "id": "43b5c71a",
   "metadata": {},
   "outputs": [
    {
     "data": {
      "text/plain": [
       "dtype('<U1')"
      ]
     },
     "execution_count": 5,
     "metadata": {},
     "output_type": "execute_result"
    }
   ],
   "source": [
    "char_arr.dtype"
   ]
  },
  {
   "cell_type": "code",
   "execution_count": 12,
   "id": "ba6a0e17",
   "metadata": {},
   "outputs": [
    {
     "data": {
      "text/plain": [
       "array([1., 2., 3., 4.])"
      ]
     },
     "execution_count": 12,
     "metadata": {},
     "output_type": "execute_result"
    }
   ],
   "source": [
    "array8=np.array([1,2,3,4],dtype=\"float64\")\n",
    "array8"
   ]
  },
  {
   "cell_type": "code",
   "execution_count": 13,
   "id": "acfcfbea",
   "metadata": {},
   "outputs": [
    {
     "data": {
      "text/plain": [
       "array([1., 2., 3., 4.], dtype=float32)"
      ]
     },
     "execution_count": 13,
     "metadata": {},
     "output_type": "execute_result"
    }
   ],
   "source": [
    "array2conv=array8.astype('f')\n",
    "array2conv"
   ]
  },
  {
   "cell_type": "code",
   "execution_count": 14,
   "id": "f812a2b3",
   "metadata": {},
   "outputs": [
    {
     "data": {
      "text/plain": [
       "array([1, 2, 3, 4], dtype=int32)"
      ]
     },
     "execution_count": 14,
     "metadata": {},
     "output_type": "execute_result"
    }
   ],
   "source": [
    "array7conv=array2conv.astype('i')\n",
    "array7conv"
   ]
  },
  {
   "cell_type": "code",
   "execution_count": 15,
   "id": "bc805535",
   "metadata": {},
   "outputs": [
    {
     "ename": "ValueError",
     "evalue": "invalid literal for int() with base 10: 'a'",
     "output_type": "error",
     "traceback": [
      "\u001b[1;31m---------------------------------------------------------------------------\u001b[0m",
      "\u001b[1;31mValueError\u001b[0m                                Traceback (most recent call last)",
      "Cell \u001b[1;32mIn[15], line 1\u001b[0m\n\u001b[1;32m----> 1\u001b[0m char_conv\u001b[38;5;241m=\u001b[39mchar_arr\u001b[38;5;241m.\u001b[39mastype(\u001b[38;5;124m'\u001b[39m\u001b[38;5;124mi\u001b[39m\u001b[38;5;124m'\u001b[39m)\n\u001b[0;32m      2\u001b[0m char_conv\n",
      "\u001b[1;31mValueError\u001b[0m: invalid literal for int() with base 10: 'a'"
     ]
    }
   ],
   "source": [
    "char_conv=char_arr.astype('i')\n",
    "char_conv"
   ]
  },
  {
   "cell_type": "code",
   "execution_count": 16,
   "id": "3ae7c173",
   "metadata": {},
   "outputs": [
    {
     "data": {
      "text/plain": [
       "array([1., 1., 1.])"
      ]
     },
     "execution_count": 16,
     "metadata": {},
     "output_type": "execute_result"
    }
   ],
   "source": [
    "ars1=np.ones(3)\n",
    "ars1"
   ]
  },
  {
   "cell_type": "code",
   "execution_count": 17,
   "id": "861975c4",
   "metadata": {},
   "outputs": [
    {
     "data": {
      "text/plain": [
       "array([0., 0., 0.])"
      ]
     },
     "execution_count": 17,
     "metadata": {},
     "output_type": "execute_result"
    }
   ],
   "source": [
    "ars2=np.zeros(3)\n",
    "ars2"
   ]
  },
  {
   "cell_type": "code",
   "execution_count": 19,
   "id": "e26d4ab2",
   "metadata": {},
   "outputs": [
    {
     "data": {
      "text/plain": [
       "array([0.19976098, 0.32029257, 0.65426564])"
      ]
     },
     "execution_count": 19,
     "metadata": {},
     "output_type": "execute_result"
    }
   ],
   "source": [
    "ars3=np.random.random(3)\n",
    "ars3"
   ]
  },
  {
   "cell_type": "code",
   "execution_count": 21,
   "id": "47afefaa",
   "metadata": {},
   "outputs": [
    {
     "data": {
      "text/plain": [
       "array([0.57239712, 0.45554265, 0.47647443])"
      ]
     },
     "execution_count": 21,
     "metadata": {},
     "output_type": "execute_result"
    }
   ],
   "source": [
    "ars3=np.random.random(3)\n",
    "ars3"
   ]
  },
  {
   "cell_type": "code",
   "execution_count": 22,
   "id": "be4a2637",
   "metadata": {},
   "outputs": [
    {
     "data": {
      "text/plain": [
       "array([0., 0., 0.])"
      ]
     },
     "execution_count": 22,
     "metadata": {},
     "output_type": "execute_result"
    }
   ],
   "source": [
    "ars2=np.zeros(3)\n",
    "ars2"
   ]
  },
  {
   "cell_type": "code",
   "execution_count": 25,
   "id": "56703eb6",
   "metadata": {},
   "outputs": [
    {
     "data": {
      "text/plain": [
       "array([[0, 0],\n",
       "       [0, 0]], dtype=int32)"
      ]
     },
     "execution_count": 25,
     "metadata": {},
     "output_type": "execute_result"
    }
   ],
   "source": [
    "ars=np.zeros((2,2),dtype='i')\n",
    "ars"
   ]
  },
  {
   "cell_type": "code",
   "execution_count": 28,
   "id": "730c9623",
   "metadata": {},
   "outputs": [
    {
     "data": {
      "text/plain": [
       "array([[0., 0.],\n",
       "       [0., 0.],\n",
       "       [0., 0.]], dtype=float32)"
      ]
     },
     "execution_count": 28,
     "metadata": {},
     "output_type": "execute_result"
    }
   ],
   "source": [
    "ars4=np.zeros((3,2),dtype='f')\n",
    "ars4"
   ]
  },
  {
   "cell_type": "code",
   "execution_count": 30,
   "id": "aaabcfc5",
   "metadata": {},
   "outputs": [
    {
     "data": {
      "text/plain": [
       "array([[0.11418856, 0.8651167 ],\n",
       "       [0.10904002, 0.81694587],\n",
       "       [0.52751081, 0.9631815 ]])"
      ]
     },
     "execution_count": 30,
     "metadata": {},
     "output_type": "execute_result"
    }
   ],
   "source": [
    "ars5=np.random.random((3,2))\n",
    "ars5"
   ]
  },
  {
   "cell_type": "code",
   "execution_count": 31,
   "id": "f5cd5f95",
   "metadata": {},
   "outputs": [
    {
     "data": {
      "text/plain": [
       "3"
      ]
     },
     "execution_count": 31,
     "metadata": {},
     "output_type": "execute_result"
    }
   ],
   "source": [
    "dimones=np.ones((4,3,2))\n",
    "dimones.ndim"
   ]
  },
  {
   "cell_type": "code",
   "execution_count": 34,
   "id": "aa10f01c",
   "metadata": {},
   "outputs": [
    {
     "data": {
      "text/plain": [
       "array([[[1, 1],\n",
       "        [1, 1],\n",
       "        [1, 1]],\n",
       "\n",
       "       [[1, 1],\n",
       "        [1, 1],\n",
       "        [1, 1]],\n",
       "\n",
       "       [[1, 1],\n",
       "        [1, 1],\n",
       "        [1, 1]],\n",
       "\n",
       "       [[1, 1],\n",
       "        [1, 1],\n",
       "        [1, 1]]], dtype=int32)"
      ]
     },
     "execution_count": 34,
     "metadata": {},
     "output_type": "execute_result"
    }
   ],
   "source": [
    "dimone=dimones.astype('i')\n",
    "dimone"
   ]
  },
  {
   "cell_type": "code",
   "execution_count": 37,
   "id": "8c3a6c8e",
   "metadata": {},
   "outputs": [
    {
     "name": "stdout",
     "output_type": "stream",
     "text": [
      "[[12 14 16]\n",
      " [18 20 22]]\n"
     ]
    }
   ],
   "source": [
    "ar1=np.array([[1,2,3],[4,5,6]])\n",
    "ar2=np.array([[11,12,13],[14,15,16]])\n",
    "add=ar1+ar2\n",
    "print(add)"
   ]
  },
  {
   "cell_type": "code",
   "execution_count": 38,
   "id": "bfb65209",
   "metadata": {},
   "outputs": [
    {
     "name": "stdout",
     "output_type": "stream",
     "text": [
      "[[-10 -10 -10]\n",
      " [-10 -10 -10]]\n"
     ]
    }
   ],
   "source": [
    "ar1=np.array([[1,2,3],[4,5,6]])\n",
    "ar2=np.array([[11,12,13],[14,15,16]])\n",
    "sub=ar1-ar2\n",
    "print(sub)"
   ]
  },
  {
   "cell_type": "code",
   "execution_count": 39,
   "id": "908f0cce",
   "metadata": {},
   "outputs": [
    {
     "name": "stdout",
     "output_type": "stream",
     "text": [
      "[[11 24 39]\n",
      " [56 75 96]]\n"
     ]
    }
   ],
   "source": [
    "ar1=np.array([[1,2,3],[4,5,6]])\n",
    "ar2=np.array([[11,12,13],[14,15,16]])\n",
    "mul=ar1*ar2\n",
    "print(mul) "
   ]
  },
  {
   "cell_type": "code",
   "execution_count": 40,
   "id": "38aa57ff",
   "metadata": {},
   "outputs": [
    {
     "name": "stdout",
     "output_type": "stream",
     "text": [
      "[[0.09090909 0.16666667 0.23076923]\n",
      " [0.28571429 0.33333333 0.375     ]]\n"
     ]
    }
   ],
   "source": [
    "ar1=np.array([[1,2,3],[4,5,6]])\n",
    "ar2=np.array([[11,12,13],[14,15,16]])\n",
    "div=ar1/ar2\n",
    "print(div)"
   ]
  },
  {
   "cell_type": "code",
   "execution_count": 42,
   "id": "67b8eb71",
   "metadata": {},
   "outputs": [
    {
     "name": "stdout",
     "output_type": "stream",
     "text": [
      "[[         1       4096    1594323]\n",
      " [ 268435456  452807053 -683606016]]\n"
     ]
    }
   ],
   "source": [
    "power=np.power(ar1,ar2)\n",
    "print(power)"
   ]
  },
  {
   "cell_type": "code",
   "execution_count": 43,
   "id": "6178c55c",
   "metadata": {},
   "outputs": [
    {
     "name": "stdout",
     "output_type": "stream",
     "text": [
      "[[12 14 16]\n",
      " [15 17 19]]\n"
     ]
    }
   ],
   "source": [
    "ar3=np.array([[1,2,3],[4,5,6]])\n",
    "ar4=np.array([11,12,13])\n",
    "add=ar3+ar4\n",
    "print(add)"
   ]
  },
  {
   "cell_type": "code",
   "execution_count": 45,
   "id": "fb777736",
   "metadata": {},
   "outputs": [
    {
     "data": {
      "text/plain": [
       "array([0, 3, 6, 9])"
      ]
     },
     "execution_count": 45,
     "metadata": {},
     "output_type": "execute_result"
    }
   ],
   "source": [
    "range_arr=np.arange(0,10,3)\n",
    "range_arr"
   ]
  },
  {
   "cell_type": "code",
   "execution_count": 46,
   "id": "ad403cb7",
   "metadata": {},
   "outputs": [
    {
     "data": {
      "text/plain": [
       "array([0, 1, 2, 3, 4, 5, 6, 7, 8, 9])"
      ]
     },
     "execution_count": 46,
     "metadata": {},
     "output_type": "execute_result"
    }
   ],
   "source": [
    "range_arr=np.arange(0,10,1)\n",
    "range_arr"
   ]
  },
  {
   "cell_type": "code",
   "execution_count": 51,
   "id": "8a30f722",
   "metadata": {},
   "outputs": [
    {
     "data": {
      "text/plain": [
       "array([ 0, 25, 50, 75])"
      ]
     },
     "execution_count": 51,
     "metadata": {},
     "output_type": "execute_result"
    }
   ],
   "source": [
    "range_arr=np.arange(0,100,25)\n",
    "range_arr"
   ]
  },
  {
   "cell_type": "code",
   "execution_count": 57,
   "id": "ea19e8ae",
   "metadata": {},
   "outputs": [
    {
     "data": {
      "text/plain": [
       "array([0, 0, 0, 0, 0])"
      ]
     },
     "execution_count": 57,
     "metadata": {},
     "output_type": "execute_result"
    }
   ],
   "source": [
    " a=np.random.randint(low=1,size=5)\n",
    "a"
   ]
  },
  {
   "cell_type": "code",
   "execution_count": 59,
   "id": "280a79ce",
   "metadata": {},
   "outputs": [
    {
     "data": {
      "text/plain": [
       "array([[5, 3, 5],\n",
       "       [5, 5, 3]])"
      ]
     },
     "execution_count": 59,
     "metadata": {},
     "output_type": "execute_result"
    }
   ],
   "source": [
    "b=np.random.randint(low=1,high=6,size=(2,3))\n",
    "b"
   ]
  },
  {
   "cell_type": "code",
   "execution_count": 60,
   "id": "abfb5ff7",
   "metadata": {},
   "outputs": [
    {
     "data": {
      "text/plain": [
       "array([[ 1,  2,  3],\n",
       "       [ 4,  5,  6],\n",
       "       [11, 12, 13],\n",
       "       [14, 15, 16]])"
      ]
     },
     "execution_count": 60,
     "metadata": {},
     "output_type": "execute_result"
    }
   ],
   "source": [
    "arr=np.concatenate([ar1,ar2])\n",
    "arr"
   ]
  },
  {
   "cell_type": "code",
   "execution_count": 61,
   "id": "bad970d1",
   "metadata": {},
   "outputs": [
    {
     "data": {
      "text/plain": [
       "array([1, 2, 3, 4, 5, 6])"
      ]
     },
     "execution_count": 61,
     "metadata": {},
     "output_type": "execute_result"
    }
   ],
   "source": [
    "flatarr=ar1.flatten()\n",
    "flatarr"
   ]
  },
  {
   "cell_type": "code",
   "execution_count": 62,
   "id": "0713c822",
   "metadata": {},
   "outputs": [
    {
     "data": {
      "text/plain": [
       "array([[1., 0.],\n",
       "       [0., 1.]])"
      ]
     },
     "execution_count": 62,
     "metadata": {},
     "output_type": "execute_result"
    }
   ],
   "source": [
    "np.eye(2)"
   ]
  },
  {
   "cell_type": "code",
   "execution_count": 64,
   "id": "381e45bb",
   "metadata": {},
   "outputs": [
    {
     "data": {
      "text/plain": [
       "array([[1, 0, 0, 0, 0],\n",
       "       [0, 1, 0, 0, 0],\n",
       "       [0, 0, 1, 0, 0],\n",
       "       [0, 0, 0, 1, 0],\n",
       "       [0, 0, 0, 0, 1]], dtype=int32)"
      ]
     },
     "execution_count": 64,
     "metadata": {},
     "output_type": "execute_result"
    }
   ],
   "source": [
    "np.eye((5),dtype=\"i\")"
   ]
  },
  {
   "cell_type": "code",
   "execution_count": 65,
   "id": "6d698bfa",
   "metadata": {},
   "outputs": [
    {
     "name": "stdout",
     "output_type": "stream",
     "text": [
      "Number of array dimensions.\n",
      "\n",
      "Examples\n",
      "--------\n",
      ">>> x = np.array([1, 2, 3])\n",
      ">>> x.ndim\n",
      "1\n",
      ">>> y = np.zeros((2, 3, 4))\n",
      ">>> y.ndim\n",
      "3\n"
     ]
    }
   ],
   "source": [
    "np.info(np.ndarray.ndim)"
   ]
  },
  {
   "cell_type": "code",
   "execution_count": 66,
   "id": "69a27756",
   "metadata": {},
   "outputs": [
    {
     "name": "stdout",
     "output_type": "stream",
     "text": [
      "Data-type of the array's elements.\n",
      "\n",
      ".. warning::\n",
      "\n",
      "    Setting ``arr.dtype`` is discouraged and may be deprecated in the\n",
      "    future.  Setting will replace the ``dtype`` without modifying the\n",
      "    memory (see also `ndarray.view` and `ndarray.astype`).\n",
      "\n",
      "Parameters\n",
      "----------\n",
      "None\n",
      "\n",
      "Returns\n",
      "-------\n",
      "d : numpy dtype object\n",
      "\n",
      "See Also\n",
      "--------\n",
      "ndarray.astype : Cast the values contained in the array to a new data-type.\n",
      "ndarray.view : Create a view of the same data but a different data-type.\n",
      "numpy.dtype\n",
      "\n",
      "Examples\n",
      "--------\n",
      ">>> x\n",
      "array([[0, 1],\n",
      "       [2, 3]])\n",
      ">>> x.dtype\n",
      "dtype('int32')\n",
      ">>> type(x.dtype)\n",
      "<type 'numpy.dtype'>\n"
     ]
    }
   ],
   "source": [
    "np.info(np.ndarray.dtype)"
   ]
  },
  {
   "cell_type": "code",
   "execution_count": 68,
   "id": "ce671926",
   "metadata": {},
   "outputs": [
    {
     "name": "stdout",
     "output_type": "stream",
     "text": [
      "a.flatten(order='C')\n",
      "\n",
      "Return a copy of the array collapsed into one dimension.\n",
      "\n",
      "Parameters\n",
      "----------\n",
      "order : {'C', 'F', 'A', 'K'}, optional\n",
      "    'C' means to flatten in row-major (C-style) order.\n",
      "    'F' means to flatten in column-major (Fortran-\n",
      "    style) order. 'A' means to flatten in column-major\n",
      "    order if `a` is Fortran *contiguous* in memory,\n",
      "    row-major order otherwise. 'K' means to flatten\n",
      "    `a` in the order the elements occur in memory.\n",
      "    The default is 'C'.\n",
      "\n",
      "Returns\n",
      "-------\n",
      "y : ndarray\n",
      "    A copy of the input array, flattened to one dimension.\n",
      "\n",
      "See Also\n",
      "--------\n",
      "ravel : Return a flattened array.\n",
      "flat : A 1-D flat iterator over the array.\n",
      "\n",
      "Examples\n",
      "--------\n",
      ">>> a = np.array([[1,2], [3,4]])\n",
      ">>> a.flatten()\n",
      "array([1, 2, 3, 4])\n",
      ">>> a.flatten('F')\n",
      "array([1, 3, 2, 4])\n"
     ]
    }
   ],
   "source": [
    "np.info(np.ndarray.flatten)"
   ]
  },
  {
   "cell_type": "code",
   "execution_count": null,
   "id": "625c853e",
   "metadata": {},
   "outputs": [],
   "source": []
  }
 ],
 "metadata": {
  "kernelspec": {
   "display_name": "Python 3 (ipykernel)",
   "language": "python",
   "name": "python3"
  },
  "language_info": {
   "codemirror_mode": {
    "name": "ipython",
    "version": 3
   },
   "file_extension": ".py",
   "mimetype": "text/x-python",
   "name": "python",
   "nbconvert_exporter": "python",
   "pygments_lexer": "ipython3",
   "version": "3.11.5"
  }
 },
 "nbformat": 4,
 "nbformat_minor": 5
}
